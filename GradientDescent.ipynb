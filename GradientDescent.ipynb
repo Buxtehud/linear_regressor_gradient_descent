{
 "cells": [
  {
   "cell_type": "code",
   "execution_count": 1,
   "metadata": {},
   "outputs": [],
   "source": [
    "import numpy as np\n",
    "import matplotlib.pyplot as plt"
   ]
  },
  {
   "cell_type": "markdown",
   "metadata": {},
   "source": [
    "I'll use gradient descent for Linear Regression.\n",
    "\n",
    "First, I'll select the sum of squared residuals as the loss function:\n",
    "\n",
    "$$\\sum_{i=0}^{n} (\\hat{y}_i - y_i)^2$$\n",
    "\n",
    "Where $\\hat{y}_i$ represent the data points and $y_i$ the predicted values.\n",
    "\n",
    "Our predicted value is a straight line, so we get:\n",
    "\n",
    "$$y=mx+b$$\n",
    "\n",
    "Where $m$ is our slope and $b$ our intercept.\n",
    "\n",
    "With these we get:\n",
    "\n",
    "$$\\sum_{i=0}^{n} [\\hat{y}_i - (b + mx_i)]^2$$"
   ]
  },
  {
   "cell_type": "markdown",
   "metadata": {},
   "source": [
    "In the code below, I just calculate the term of the swared residual form one data point. I'll explain that later."
   ]
  },
  {
   "cell_type": "code",
   "execution_count": 2,
   "metadata": {},
   "outputs": [],
   "source": [
    "def squared_residuals(pair, b, m):\n",
    "    return (pair[1] - (b + m*pair[0]))**2"
   ]
  },
  {
   "cell_type": "markdown",
   "metadata": {},
   "source": [
    "To find the optimal values, we want to minimize our  loss function. To do so, using gradient descent, we calculate the gradient.\n",
    "\n",
    "Given a two variable function $f(x,y)$, the gradient is:\n",
    "\n",
    "$$\\vec{\\nabla} f = \\left(\\frac{\\partial{f}}{\\partial{x}}, \\frac{\\partial{f}}{\\partial{y}} \\right)$$"
   ]
  },
  {
   "cell_type": "markdown",
   "metadata": {},
   "source": [
    "To aproximate numerically the derivatives, we will use finite differences:\n",
    "\n",
    "$$\\frac{\\partial{f}}{\\partial{x}} = \\frac{f(x+\\Delta h, y) - f(x-\\Delta h, y)}{2\\Delta h} + O(h^2)$$\n",
    "$$\\frac{\\partial{f}}{\\partial{y}} = \\frac{f(x, y+\\Delta h) - f(x, y-\\Delta h)}{2\\Delta h} + O(h^2)$$\n",
    "\n",
    "Where $\\Delta h$ is the step and $O(h^2)$ the error.\n",
    "\n",
    "I use central differences because that give us better aproximations than forward or backward differences and our function is $C^{\\infty}$ and do not oscilate, so we won't have mayor difficulties."
   ]
  },
  {
   "cell_type": "code",
   "execution_count": 3,
   "metadata": {},
   "outputs": [],
   "source": [
    "def gradient(func, pair, step, b, m):\n",
    "    derivate_b = (func(pair, b + step, m) - func(pair, b - step, m))/(2*step)\n",
    "    derivate_m = (func(pair, b, m  + step) - func(pair, b, m - step))/(2*step)\n",
    "    return [derivate_m, derivate_b]"
   ]
  },
  {
   "cell_type": "markdown",
   "metadata": {},
   "source": [
    "Now, what really matters:\n",
    "\n",
    "The gradient descent algorithm looks to minimize the loss function. To do so, it iterates through values to find the minimum of such function.\n",
    "\n",
    "The minimun or maximun of a multivariable function is where $\\vec{\\nabla} f = (0,0)$.\n",
    "\n",
    "We know for sure that our loss function\n",
    "\n",
    "$$L(b,m) = \\sum_{i=0}^{n} [\\hat{y}_i - (b + mx_i)]^2$$\n",
    "\n",
    "has a minimum because is a quadratic equation and the coefficient of his higher order term is possitive.\n",
    "\n",
    "So, we need to find where his gradient is zero.\n",
    "\n",
    "To do so, first we calculate the gradient given an arbitrary intercept $b_0$ and an arbitrary slope $m_0$\n",
    "\n",
    "$$ \\vec{\\nabla} L(b_0, m_0) = (g_b^0, g_m^0)$$\n",
    "\n",
    "Then we multiply our gradient by an arbitrary small value, called learn rate ($l_r$), to get the step size(s) of each variable (slope and intercept)\n",
    "\n",
    "$$s_b =  g_{b_0}\\times l_r$$\n",
    "$$s_m =  g_{m_0}\\times l_r$$\n",
    "\n",
    "The new values of our slope and intercept will be:\n",
    "\n",
    "$$m_1 = m_0 - s_m$$\n",
    "$$b_1 = b_0 - s_b$$\n",
    "\n",
    "Then we calculate the new gradient with the new slope and intercept and so on, until the step size gets really small. How much is an hyperparameter that we can adjust.\n",
    "\n",
    "So, our values are:\n",
    "\n",
    "$$ m_i = m_{i-1} - l_r \\nabla L_m(b_{i-1}, m_{i-1}) $$\n",
    "$$ b_i = b_{i-1} - l_r \\nabla L_b(b_{i-1}, m_{i-1}) $$\n",
    "\n",
    "Also notice that the derivative operator is linear. That's imortant, because our loss function is a sum of multiple terms, and we can calculate its derivative easily by calculating the derivative at each point and then adding them all togheter:\n",
    "\n",
    "$$ \\vec{\\nabla} L = \\left(\\frac{\\partial}{\\partial m}\\sum_{i=0}^{n} [\\hat{y}_i - (b + mx_i)]^2,\\frac{\\partial}{\\partial b}\\sum_{i=0}^{n} [\\hat{y}_i - (b + mx_i)]^2\\right) $$\n",
    "$$ \\vec{\\nabla} L = \\left(\\sum_{i=0}^{n} \\frac{\\partial}{\\partial m}[\\hat{y}_i - (b + mx_i)]^2,\\sum_{i=0}^{n} \\frac{\\partial}{\\partial b}[\\hat{y}_i - (b + mx_i)]^2\\right) $$"
   ]
  },
  {
   "cell_type": "code",
   "execution_count": 4,
   "metadata": {},
   "outputs": [],
   "source": [
    "def gradient_descent(cost_fucntion, x, y,  b = 0, m = 1, learn_rate = 0.0001, der_step = 0.001, iterations = 10000, limit = 5):\n",
    "    pairs = tuple(zip(x,y))\n",
    "    is_gradient_low = True\n",
    "    iters = 0\n",
    "    while (is_gradient_low) and (iters < iterations):\n",
    "        grad = np.array([0,0])\n",
    "        for pair in pairs:\n",
    "            grad = grad + np.array(gradient(cost_fucntion, pair, der_step, b, m))\n",
    "        step_size_m = grad[0]*learn_rate\n",
    "        step_size_b = grad[1]*learn_rate\n",
    "        m = m - step_size_m\n",
    "        b = b - step_size_b\n",
    "        if (np.abs(step_size_b) < learn_rate**limit) and (np.abs(step_size_m) < learn_rate**limit):\n",
    "            is_gradient_low = False\n",
    "        iters += 1\n",
    "    return [m, b]"
   ]
  },
  {
   "cell_type": "code",
   "execution_count": 5,
   "metadata": {},
   "outputs": [],
   "source": [
    "from sklearn.linear_model import LinearRegression\n",
    "model = LinearRegression()\n",
    "model_1 = LinearRegression()"
   ]
  },
  {
   "cell_type": "code",
   "execution_count": 6,
   "metadata": {},
   "outputs": [
    {
     "name": "stdout",
     "output_type": "stream",
     "text": [
      "My code: [0.5400000000001776, 5.633333333326306]\n",
      "scikit-learn: 0.5400000000000001 5.633333333333329\n"
     ]
    }
   ],
   "source": [
    "x = [5, 15, 25, 35, 45, 55]\n",
    "y = [5, 20, 14, 32, 22, 38]\n",
    "\n",
    "grad = gradient_descent(squared_residuals, x, y, 0, 1, learn_rate=0.0001, iterations=100000)\n",
    "print('My code:',grad)\n",
    "#######################################################\n",
    "mod = model.fit(np.array(x).reshape(-1,1), np.array(y))\n",
    "inter = mod.intercept_\n",
    "coef = mod.coef_[0]\n",
    "print('scikit-learn:',coef, inter)"
   ]
  },
  {
   "cell_type": "code",
   "execution_count": 7,
   "metadata": {},
   "outputs": [
    {
     "name": "stdout",
     "output_type": "stream",
     "text": [
      "My code: [0.6410256447094954, 0.9487179400715373]\n",
      "scikit-learn 0.6410256410256411 0.9487179487179487\n"
     ]
    }
   ],
   "source": [
    "x_1 = [0.5, 2.3, 2.9]\n",
    "y_1 = [1.4, 1.9, 3.2]\n",
    "\n",
    "grad_1 = gradient_descent(squared_residuals, x_1, y_1, 0, 1, learn_rate=0.01)\n",
    "print('My code:', grad_1)\n",
    "#########################################################\n",
    "mod_1 = model_1.fit(np.array(x_1).reshape(-1,1), np.array(y_1))\n",
    "inter_1 = mod_1.intercept_\n",
    "coef_1 = mod_1.coef_[0]\n",
    "print('scikit-learn',coef_1, inter_1)"
   ]
  },
  {
   "cell_type": "code",
   "execution_count": 8,
   "metadata": {},
   "outputs": [],
   "source": [
    "y_ml = []\n",
    "y_mine = []\n",
    "for i in x:\n",
    "    y_ml.append(coef*i + inter)\n",
    "    y_mine.append(grad[0]*i + grad[1])"
   ]
  },
  {
   "cell_type": "code",
   "execution_count": 9,
   "metadata": {},
   "outputs": [
    {
     "data": {
      "text/plain": [
       "<matplotlib.legend.Legend at 0x1c73f018f10>"
      ]
     },
     "execution_count": 9,
     "metadata": {},
     "output_type": "execute_result"
    },
    {
     "data": {
      "image/png": "[encoded data removed]",
      "text/plain": [
       "<Figure size 432x288 with 1 Axes>"
      ]
     },
     "metadata": {},
     "output_type": "display_data"
    }
   ],
   "source": [
    "plt.style.use('fivethirtyeight')\n",
    "plt.scatter(x, y, color='black')\n",
    "plt.plot(x,y_ml,color='red', linewidth = 3, label='scikit_learn')\n",
    "plt.plot(x,y_mine,color='b', linewidth=2, label='mine')\n",
    "plt.legend()"
   ]
  },
  {
   "cell_type": "code",
   "execution_count": 10,
   "metadata": {},
   "outputs": [],
   "source": [
    "y_ml_1 = []\n",
    "y_mine_1 = []\n",
    "for i in x_1:\n",
    "    y_ml_1.append(coef_1*i + inter_1)\n",
    "    y_mine_1.append(grad_1[0]*i + grad_1[1])"
   ]
  },
  {
   "cell_type": "code",
   "execution_count": 11,
   "metadata": {},
   "outputs": [
    {
     "data": {
      "text/plain": [
       "<matplotlib.legend.Legend at 0x1c7410fcbb0>"
      ]
     },
     "execution_count": 11,
     "metadata": {},
     "output_type": "execute_result"
    },
    {
     "data": {
      "image/png": "[encoded data removed]",
      "text/plain": [
       "<Figure size 432x288 with 1 Axes>"
      ]
     },
     "metadata": {},
     "output_type": "display_data"
    }
   ],
   "source": [
    "plt.style.use('fivethirtyeight')\n",
    "plt.scatter(x_1, y_1, color='black')\n",
    "plt.plot(x_1,y_ml_1,color='red', linewidth = 3, label='scikit_learn')\n",
    "plt.plot(x_1,y_mine_1,color='b', linewidth=2, label='mine')\n",
    "plt.legend()"
   ]
  }
 ],
 "metadata": {
  "kernelspec": {
   "display_name": "Python 3.8.13 ('base')",
   "language": "python",
   "name": "python3"
  },
  "language_info": {
   "codemirror_mode": {
    "name": "ipython",
    "version": 3
   },
   "file_extension": ".py",
   "mimetype": "text/x-python",
   "name": "python",
   "nbconvert_exporter": "python",
   "pygments_lexer": "ipython3",
   "version": "3.8.13"
  },
  "orig_nbformat": 4,
  "vscode": {
   "interpreter": {
    "hash": "c43cd0a8a52b50485e944ddc90069e94f3176cf36cbb63af739116eda7fc7c2a"
   }
  }
 },
 "nbformat": 4,
 "nbformat_minor": 2
}
